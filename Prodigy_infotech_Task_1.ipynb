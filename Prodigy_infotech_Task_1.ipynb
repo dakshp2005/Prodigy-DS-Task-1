# Task 1

<i>Create a bar chart or histogram to visualize the distribution of a categorical or continuous variable, such as the distribution of ages or genders in a population.
# About the Dataset
We have taken a World Population Dataset consisting records of population from the year 2001 to 2022.


| Series Code | Meaning |
|--------|--------|
| SP.POP.TOTL | Population, total |
| SP.POP.TOTL.FE.IN |  Population, female |
| SP.POP.TOTL.MA.IN | Population, male |
| SP.POP.TOTL.FE.ZS | Population, female (% of total population) |
| SP.POP.TOTL.MA.ZS | Population, male (% of total population) |
## Importing necessary libraries
import pandas as pd
import numpy as np
import matplotlib.pyplot as plt
import seaborn as sns
## Reading the dataset
df = pd.read_csv(r"C:\Users\TUFAN\Downloads\Prodigy_InfoTech\Task_1\worldpopulationdata.csv")
## Checking the first 5 rows
df.head(5)
## Checking the last 5 rows
df.tail(5)
## Checking the shape of the dataset
df.shape
## Checking the columns of the dataset
df.columns
## Some information about the dataset
df.info()
df.describe()
## Checking for duplicate rows 
df.duplicated().sum()
`Observation:`
- There are no duplicate rows in the dataset
## Checking for missing values
df.isna().sum()
`Observation:`
- no missing values present
## Checking unique values for columns
print(df['Country Name'].unique())
print("\nTotal no of unique countries:",df['Country Name'].nunique())
print(df['Country Code'].unique())
print("\nTotal no of unique country code:",df['Country Code'].nunique())
df['Series Name'].unique()
df['Series Code'].unique()
## Dropping unnecessary columns
df.drop(['Series Name','Country Code'],axis=1,inplace=True)
df.columns
## Extraction of top-10 countries with respect to total population
# Filter data for total population
total_population_data = df[df['Series Code'] == 'SP.POP.TOTL']

# Sort data based on the total population for 2022
total_population_sorted = total_population_data.sort_values(by="2022", ascending=False)

# Get the top ten countries with the highest total population for 2022
total_top_ten_countries = total_population_sorted.head(10)
print("Top ten countries of total population\n")
print(total_top_ten_countries[['Country Name']] )
# Bar Plot

## Top ten countries of total population in year 2022 and 2016
# Create the bar plot
plt.figure(figsize=(15, 6))
plt.subplot(2,2,1)
sns.barplot(x="2022", y="Country Name", data=total_top_ten_countries, palette="coolwarm")
plt.title("Top Ten Countries of Total Population (2022)",fontsize=10)
plt.xlabel("Total Population",fontsize=10)
plt.ylabel("Country",fontsize=10)
plt.show()

plt.figure(figsize=(15, 6))
plt.subplot(2,2,2)
sns.barplot(x="2016", y="Country Name", data=total_top_ten_countries, palette="coolwarm")
plt.title("Top Ten Countries with Total Population (2016)",fontsize=10)
plt.xlabel("Total Population",fontsize=10)
plt.ylabel("Country",fontsize=10)
plt.show()


## Top ten countries of total population in year 2010 and 2001
# Create the bar plot
plt.figure(figsize=(15, 6))
plt.subplot(2,2,1)
sns.barplot(x="2010", y="Country Name", data=total_top_ten_countries, palette="coolwarm")
plt.title("Top Ten Countries of Total Population (2010)",fontsize=10)
plt.xlabel("Total Population",fontsize=10)
plt.ylabel("Country",fontsize=10)
plt.show()

plt.figure(figsize=(15, 6))
plt.subplot(2,2,2)
sns.barplot(x="2001", y="Country Name", data=total_top_ten_countries, palette="coolwarm")
plt.title("Top Ten Countries with Total Population (2001)",fontsize=10)
plt.xlabel("Total Population",fontsize=10)
plt.ylabel("Country",fontsize=10)
plt.show()
## Extraction of bottom-10 countries with respect to total population
# Sort data based on the total population for 2022
total_population_sorted1 = total_population_data.sort_values(by="2022", ascending=True)

# Get the bottom ten countries with the highest total population for 2022
total_bottom_ten_countries = total_population_sorted1.head(10)
print("Bottom ten countries of total population\n")
print(total_bottom_ten_countries[['Country Name']] )
## Bottom ten countries of total population in year 2022 and 2016
# Create the bar plot
plt.figure(figsize=(15, 6))
plt.subplot(2,2,1)
sns.barplot(x="2022", y="Country Name", data=total_bottom_ten_countries, palette="coolwarm")
plt.title("Top Ten Countries of Total Population (2022)",fontsize=10)
plt.xlabel("Total Population",fontsize=10)
plt.ylabel("Country",fontsize=10)
plt.show()

plt.figure(figsize=(15, 6))
plt.subplot(2,2,2)
sns.barplot(x="2016", y="Country Name", data=total_bottom_ten_countries, palette="coolwarm")
plt.title("Top Ten Countries with Total Population (2016)",fontsize=10)
plt.xlabel("Total Population",fontsize=10)
plt.ylabel("Country",fontsize=10)
plt.show()


## Bottom ten countries of total population in year 2010 and 2001
# Create the bar plot
plt.figure(figsize=(15, 6))
plt.subplot(2,2,1)
sns.barplot(x="2010", y="Country Name", data=total_bottom_ten_countries, palette="coolwarm")
plt.title("Top Ten Countries of Total Population (2010)",fontsize=10)
plt.xlabel("Total Population",fontsize=10)
plt.ylabel("Country",fontsize=10)
plt.show()

plt.figure(figsize=(15, 6))
plt.subplot(2,2,2)
sns.barplot(x="2001", y="Country Name", data=total_bottom_ten_countries, palette="coolwarm")
plt.title("Top Ten Countries with Total Population (2001)",fontsize=10)
plt.xlabel("Total Population",fontsize=10)
plt.ylabel("Country",fontsize=10)
plt.show()

 ## Extraction of top ten countries with highest male population
# Filter data for male population
male_population_data = df[df["Series Code"] == "SP.POP.TOTL.MA.IN"]

# Sort data based on the male population for 2022
male_population_sorted = male_population_data.sort_values(by="2022", ascending=False)

# Get the top ten countries with the highest male population for 2022
male_top_ten_countries = male_population_sorted.head(10)
print("Top ten countries of male population")
print(male_top_ten_countries[['Country Name']] )
## Extraction of top ten countries with highest female population
# Filter data for female population
female_population_data = df[df["Series Code"] == "SP.POP.TOTL.FE.IN"]

# Sort data based on the female population for 2022
female_population_sorted = female_population_data.sort_values(by="2022", ascending=False)

# Get the top ten countries with the highest female population for 2022
female_top_ten_countries = female_population_sorted.head(10)
print("Top ten countries of female population")
print(female_top_ten_countries[['Country Name']] )
## Top ten countries with highest male and female population in 2022
# Create the bar plot
plt.figure(figsize=(15, 6))
plt.subplot(2,2,1)
sns.barplot(x="2022", y="Country Name", data=male_top_ten_countries, palette="viridis")
plt.title("Top Ten Countries with Highest Male Population (2022)",size=10)
plt.xlabel("Male Population",size=10)
plt.ylabel("Country",size=10)
plt.show()

plt.figure(figsize=(15, 6))
plt.subplot(2,2,2)
sns.barplot(x="2022", y="Country Name", data=female_top_ten_countries, palette="viridis")
plt.title("Top Ten Countries with Highest Female Population (2022)",size=10)
plt.xlabel("Female Population",size=10)
plt.ylabel("Country",size=10)
plt.show()
## Extraction of top ten countries with lowest male population
male_lowest_ten_countries = male_population_sorted.tail(10)
print("Top ten countries of lowest male population")
print(male_lowest_ten_countries[['Country Name']] )
## Extraction of top ten countries with lowest female population
female_lowest_ten_countries = female_population_sorted.tail(10)
print("Top ten countries of lowest female population")
print(female_lowest_ten_countries[['Country Name']] )
## Top ten countries with lowest male and female population in 2022
# Create the bar plot
plt.figure(figsize=(15, 6))
plt.subplot(2,2,1)
sns.barplot(x="2022", y="Country Name", data=male_lowest_ten_countries, palette="viridis")
plt.title("Top Ten Countries with Lowest Male Population (2022)",size=10)
plt.xlabel("Male Population",size=10)
plt.ylabel("Country",size=10)
plt.show()

plt.figure(figsize=(15, 6))
plt.subplot(2,2,2)
sns.barplot(x="2022", y="Country Name", data=female_lowest_ten_countries, palette="viridis")
plt.title("Top Ten Countries with Lowest Female Population (2022)",size=10)
plt.xlabel("Female Population",size=10)
plt.ylabel("Country",size=10)
plt.show()
# Stacked Bar Plot

## Top 10 Countries with Male and Female Populations (2022)
# Merge male and female population data on 'Country Name'
merged_data = pd.merge(male_population_data, female_population_data, on="Country Name", suffixes=("_male", "_female"))
merged_data
# Calculate the total population for each country (male + female)
merged_data["Total Population"] = merged_data["2022_male"] + merged_data["2022_female"]
merged_data.head()
# Sort data based on total population in descending order
sorted_data = merged_data.sort_values(by="Total Population", ascending=False)

# Select the top 10 countries with the highest total population
top_10_countries = sorted_data.head(10)
# Create the stacked bar plot
plt.figure(figsize=(12, 6))

sns.barplot(x="Country Name", y="2022_female", data=top_10_countries, color="red", label="Female Population")
sns.barplot(x="Country Name", y="2022_male", data=top_10_countries, bottom=top_10_countries["2022_female"], color="green", label="Male Population")
plt.title("Top 10 Countries with Male and Female Populations (2022)")
plt.xlabel("Country")
plt.ylabel("Population")
plt.legend()
plt.xticks(rotation=45, ha="right")
plt.show()
## Bottom 10 Countries with Male and Female Populations (2022)
# Select the top 10 countries with the highest total population
bottom_10_countries = sorted_data.tail(10)
# Create the stacked bar plot
plt.figure(figsize=(12, 6))

sns.barplot(x="Country Name", y="2022_female", data=bottom_10_countries, color="red", label="Female Population")
sns.barplot(x="Country Name", y="2022_male", data=bottom_10_countries, bottom=bottom_10_countries["2022_female"], color="green", label="Male Population")
plt.title("Bottom 10 Countries with Male and Female Populations (2022)")
plt.xlabel("Country")
plt.ylabel("Population")
plt.legend()
plt.xticks(rotation=45, ha="right")
plt.show()

